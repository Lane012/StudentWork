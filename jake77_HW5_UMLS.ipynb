{
 "cells": [
  {
   "cell_type": "markdown",
   "metadata": {},
   "source": [
    "# Unit 10 HW - Data Wrangling from UMLS RRF Files"
   ]
  },
  {
   "cell_type": "markdown",
   "metadata": {},
   "source": [
    "Description: : In this file we pull the UMLS files, MRCONSO.RFF and MRREF.RRF, from a directory and wrangle the specified data (ConceptID, Medication Name, Drug Class, Diagnosis, Mechanism of Action) using the given Concept IDs as well as create and write said data to a csv file."
   ]
  },
  {
   "cell_type": "markdown",
   "metadata": {},
   "source": [
    "Logic: Using the Pandas module, we create respective dataframes and iterate through each row of the relationship dataframe extracting the specified data needed by using a given Concept ID and identifying its respective concept relationship as a unique key, which we use to extract the relationship from the associated concept structure dataframe. Then we use the csv writer to write the needed extracted data to a csv file. "
   ]
  },
  {
   "cell_type": "code",
   "execution_count": 1,
   "metadata": {
    "collapsed": true,
    "scrolled": true
   },
   "outputs": [],
   "source": [
    "import csv \n",
    "import os\n",
    "import pandas as pd\n",
    "\n",
    "data_directory = \"/opt/class/umls/\"\n",
    "\n",
    "def getConceptNums(data_frame, concept_num):\n",
    "    #contains concept numbers for each respective type of needed data\n",
    "    drug_nums = []\n",
    "    diagnosis_nums = []\n",
    "    moa_nums = []\n",
    "    list_of_nums = []\n",
    "    \n",
    "    #creates series objects and iterates through lines to get concept numbers\n",
    "    for row in data_frame.iterrows():\n",
    "        column = row[1] #series object\n",
    "        concept_left = row[1].at[0]\n",
    "        concept_right = row[1].at[4]\n",
    "        \n",
    "        #checks if line has one of the respective attributes, returns associated concept ID in line\n",
    "        if (column[3] == \"PAR\" or column[3] == \"CHD\" or column[7] == \"isa\" or column[7] == \"inverse_isa\"): \n",
    "            drug_nums = getConcept(concept_left, concept_right, drug_nums)\n",
    "            \n",
    "        elif(column[7] == \"may_be_treated_by\"):\n",
    "            diagnosis_nums = getConcept(concept_left, concept_right, diagnosis_nums)\n",
    "        \n",
    "        elif(column[7] == \"mechanism_of_action_of\"):\n",
    "            moa_nums = getConcept(concept_left, concept_right, moa_nums)\n",
    "        \n",
    "    #remove duplicate concept IDs and adds to list_of_nums\n",
    "    drug_nums = remove_duplicates(drug_nums)\n",
    "    diagnosis_nums = remove_duplicates(diagnosis_nums)\n",
    "    moa_nums = remove_duplicates(moa_nums)\n",
    "    list_of_nums.append(drug_nums)\n",
    "    list_of_nums.append(diagnosis_nums)\n",
    "    list_of_nums.append(moa_nums)\n",
    "    \n",
    "    return list_of_nums\n",
    "\n",
    "#finds concept ID and returns opposite associated concept ID\n",
    "def getConcept(concept_left, concept_right, nums):\n",
    "    if (concept_left == concept_num):\n",
    "        nums.append(concept_right)\n",
    "    elif(concept_right == concept_num):\n",
    "        nums.append(concept_left)\n",
    "        \n",
    "    return(nums)\n",
    "\n",
    "def remove_duplicates(nums):\n",
    "    return(list(set(nums)))\n",
    "\n",
    "#iterates through rows of data_frame, gets series object, returns concept associated data\n",
    "def getData(data_frame, nums):\n",
    "    for row in data_frame.iterrows():\n",
    "        line = row[1]\n",
    "        concept_num = line[0]\n",
    "        for num in nums:\n",
    "            if num == concept_num:\n",
    "                return line[14]\n",
    "\n",
    "#gets Medication name from MRCONSO file\n",
    "def getMedicationName(data_frame, num):\n",
    "    for row in data_frame.iterrows(): \n",
    "        line = row[1] \n",
    "        concept_num = line[0] \n",
    "        if num == concept_num: \n",
    "            return line[14]\n",
    "\n",
    "\n",
    "file_list = os.listdir(data_directory)\n",
    "\n",
    "csv_file = open(\"jake77_UMLS.csv\", \"w+\", newline='')\n",
    "w = csv.writer(csv_file)\n",
    "\n",
    "header = [\"ConceptID\", \"Medication Name\", \"Drug Class\", \"Diagnosis\", \"Mechanism of Action\"]\n",
    "w.writerow(header)\n",
    "\n",
    "#creates all variables and writes to csv file\n",
    "MRCONSO_FILE = open(data_directory + \"MRCONSO.RRF\")\n",
    "MRREF_FILE = open(data_directory + \"MRREL.RRF\")\n",
    "\n",
    "MRCONSO_FRAME = pd.read_csv(MRCONSO_FILE, header = None, delimiter=\"|\")\n",
    "MRREF_FRAME = pd.read_csv(MRREF_FILE, header = None, delimiter=\"|\")\n",
    "\n",
    "#takes in concept ID gets data related to the associated concept lists\n",
    "concept_num = \"C0016860\"\n",
    "nums = getConceptNums(MRREF_FRAME, concept_num)\n",
    "med = getMedicationName(MRCONSO_FRAME, concept_num)\n",
    "drugClass = getData(MRCONSO_FRAME, nums[0])\n",
    "Diagnosis = getData(MRCONSO_FRAME, nums[1])\n",
    "MOA = getData(MRCONSO_FRAME, nums[2])\n",
    "\n",
    "#writes rows of data to csv file\n",
    "row = [concept_num, med, drugClass, Diagnosis, MOA]\n",
    "w.writerow(row)\n",
    "\n",
    "concept_num = \"C0012265\"\n",
    "nums = getConceptNums(MRREF_FRAME, concept_num)\n",
    "med = getMedicationName(MRCONSO_FRAME, concept_num)\n",
    "drugClass = getData(MRCONSO_FRAME, nums[0])\n",
    "Diagnosis = getData(MRCONSO_FRAME, nums[1])\n",
    "MOA = getData(MRCONSO_FRAME, nums[2])\n",
    "\n",
    "row = [concept_num, med, drugClass, Diagnosis, MOA]\n",
    "w.writerow(row)\n",
    "\n",
    "MRREF_FILE.close()\n",
    "MRCONSO_FILE.close()\n",
    "csv_file.close()\n",
    "\n"
   ]
  },
  {
   "cell_type": "markdown",
   "metadata": {},
   "source": [
    "Output: Outputs a csv file in the home directory containing the specified UMLS data needed associated with each Concept ID."
   ]
  }
 ],
 "metadata": {
  "kernelspec": {
   "display_name": "Python 3",
   "language": "python",
   "name": "python3"
  },
  "language_info": {
   "codemirror_mode": {
    "name": "ipython",
    "version": 3
   },
   "file_extension": ".py",
   "mimetype": "text/x-python",
   "name": "python",
   "nbconvert_exporter": "python",
   "pygments_lexer": "ipython3",
   "version": "3.6.1"
  }
 },
 "nbformat": 4,
 "nbformat_minor": 2
}
